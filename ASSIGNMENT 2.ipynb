{
 "cells": [
  {
   "cell_type": "markdown",
   "id": "e10e7253",
   "metadata": {},
   "source": [
    "1.What are the two values of the Boolean data type? How do you write them?\n",
    "\n",
    "2. What are the three different types of Boolean operators?\n",
    "\n",
    "3. Make a list of each Boolean operator (i.e. every possible combination of Boolean\n",
    "values for the operator and what it evaluate ).\n",
    "\n",
    "4. What are the values of the following expressions?\n",
    "\n",
    "(5 > 4) and (3 == 5)\n",
    "not (5 > 4)\n",
    "(5 > 4) or (3 == 5)\n",
    "not ((5 > 4) or (3 == 5))\n",
    "(True and True) and (True == False)\n",
    "(not False) or (not True)\n",
    "\n",
    "\n",
    "5. What are the six comparison operators?\n",
    "\n",
    "\n",
    "6. How do you tell the difference between the equal to and assignment operators?Describe a\n",
    "condition and when you would use one.\n",
    "\n",
    "7. Identify the three blocks in this code:\n",
    "spam = 0\n",
    "if spam == 10:\n",
    "print('eggs')\n",
    "if spam > 5:\n",
    "print('bacon')\n",
    "else:\n",
    "print(ham')\n",
    "print('spam')\n",
    "print('spam')\n",
    "      \n",
    "      \n",
    "8. Write code that prints Hello if 1 is stored in spam, prints Howdy if 2 is stored in spam, and prints\n",
    "Greetings! if anything else is stored in spam.\n",
    "\n",
    "9.If your programme is stuck in an endless loop, what keys you’ll press?\n",
    "      \n",
    "10. How can you tell the difference between break and continue?\n",
    "      \n",
    "11. In a for loop, what is the difference between range(10), range(0, 10), and range(0, 10, 1)?\n",
    "      \n",
    "12. Write a short program that prints the numbers 1 to 10 using a for loop. Then write an equivalent\n",
    "program that prints the numbers 1 to 10 using a while loop.\n",
    "      \n",
    "13. If you had a function named bacon() inside  a module named spam, how would you call it after\n",
    "importing spam?"
   ]
  },
  {
   "cell_type": "markdown",
   "id": "05d7bd38",
   "metadata": {},
   "source": [
    "**#1.What are the two values of the Boolean data type? How do you write them?**"
   ]
  },
  {
   "cell_type": "markdown",
   "id": "ebf1b7b0",
   "metadata": {},
   "source": [
    "The 2 values of Boolean data type are: True and False x = True y = False They are case sensitive. It is represented as True() and False() The same concept is true when using the 'in' function. It returns a value either \"True\" or \"False\" based on the condition."
   ]
  },
  {
   "cell_type": "markdown",
   "id": "d3da5124",
   "metadata": {},
   "source": [
    "**2.What are the three different types of Boolean operators?**"
   ]
  },
  {
   "cell_type": "markdown",
   "id": "8dc55264",
   "metadata": {},
   "source": [
    "The 3 types of Boolean operator are \"and\" \"or\" \"not\"\n",
    "\n",
    "and operator: It return the value as true if both the statements are true.\n",
    "or operator: It returns the value as true if one of the statements is true.\n",
    "not operator: It reverses the result."
   ]
  },
  {
   "cell_type": "markdown",
   "id": "5402cfb0",
   "metadata": {},
   "source": [
    "**3.Make a list of each Boolean operator (i.e. every possible combination of Boolean values for the operator and what it evaluate ).**"
   ]
  },
  {
   "cell_type": "raw",
   "id": "d08b2f45",
   "metadata": {},
   "source": [
    "  A\t      B \tA and B  A or B\t not A\n",
    "\t\t\t\t\n",
    "TRUE\tTRUE\tTRUE\tTRUE\tFALSE\n",
    "TRUE\tFALSE\tFALSE\tTRUE\tFALSE\n",
    "FALSE\tTRUE\tFALSE\tTRUE\tTRUE\n",
    "FALSE\tFALSE\tFALSE\tFALSE\tTRUE\n",
    "\t\t\t\t\n",
    "In the truth table above, A and B represent Boolean values (True or False). The and operator returns True if both A and B are True, otherwise, it returns False. The or operator returns True if at least one of A or B is True, otherwise, it returns False. The not operator negates the value of A, so if A is True, not A is False, and if A is False, not A is True.\t\t\t\t"
   ]
  },
  {
   "cell_type": "markdown",
   "id": "33b65756",
   "metadata": {},
   "source": [
    "**4.What are the values of the following expressions?**\n",
    "\n",
    "**(5 > 4) and (3 == 5)  not ((5 > 4) or (3 == 5)) (True and True) and (True == False) (not False) or (not True)**"
   ]
  },
  {
   "cell_type": "code",
   "execution_count": 1,
   "id": "c37e7d47",
   "metadata": {},
   "outputs": [
    {
     "data": {
      "text/plain": [
       "False"
      ]
     },
     "execution_count": 1,
     "metadata": {},
     "output_type": "execute_result"
    }
   ],
   "source": [
    "(5 > 4) and (3 == 5)\n"
   ]
  },
  {
   "cell_type": "code",
   "execution_count": 2,
   "id": "75cf4a19",
   "metadata": {},
   "outputs": [
    {
     "data": {
      "text/plain": [
       "False"
      ]
     },
     "execution_count": 2,
     "metadata": {},
     "output_type": "execute_result"
    }
   ],
   "source": [
    "not (5 > 4)"
   ]
  },
  {
   "cell_type": "code",
   "execution_count": 3,
   "id": "6f98454a",
   "metadata": {},
   "outputs": [
    {
     "data": {
      "text/plain": [
       "False"
      ]
     },
     "execution_count": 3,
     "metadata": {},
     "output_type": "execute_result"
    }
   ],
   "source": [
    " not ((5 > 4) or (3 == 5))"
   ]
  },
  {
   "cell_type": "code",
   "execution_count": 4,
   "id": "dbef560a",
   "metadata": {},
   "outputs": [
    {
     "data": {
      "text/plain": [
       "False"
      ]
     },
     "execution_count": 4,
     "metadata": {},
     "output_type": "execute_result"
    }
   ],
   "source": [
    " (True and True) and (True == False) "
   ]
  },
  {
   "cell_type": "code",
   "execution_count": 5,
   "id": "c7d9a4b2",
   "metadata": {},
   "outputs": [
    {
     "data": {
      "text/plain": [
       "True"
      ]
     },
     "execution_count": 5,
     "metadata": {},
     "output_type": "execute_result"
    }
   ],
   "source": [
    "(not False) or (not True)"
   ]
  },
  {
   "cell_type": "markdown",
   "id": "c1638f98",
   "metadata": {},
   "source": [
    "**5.What are the six comparison operators?**"
   ]
  },
  {
   "cell_type": "markdown",
   "id": "207adb1a",
   "metadata": {},
   "source": [
    "> - Greater than\n",
    "< - less than\n",
    "== - Is equal to\n",
    ">= - Greater than or equal to\n",
    "<= - Less than or equal to\n",
    "!= - not equal to\n",
    "\n"
   ]
  },
  {
   "cell_type": "markdown",
   "id": "7e77875b",
   "metadata": {},
   "source": [
    "**6.How do you tell the difference between the equal to and assignment operators?Describe a condition and when you would use one.**"
   ]
  },
  {
   "cell_type": "markdown",
   "id": "4ff724b3",
   "metadata": {},
   "source": [
    "Assignment operator allots the value of the variable or constant to the variable on the left hand side of the operator\n",
    "a = 99 , b = 87\n",
    "Whereas\n",
    "\n",
    "The equalto operator compares the value on both sides of the operator, weather it be a number, string or a boolean variable.\n",
    "if a == b: print(\"OK\") The output will be OK if the comparison condition is met.\n"
   ]
  },
  {
   "cell_type": "markdown",
   "id": "04febbc9",
   "metadata": {},
   "source": [
    "**7.Identify the three blocks in this code: spam = 0 if spam == 10: print('eggs') if spam > 5: print('bacon') else: print(ham') print('spam') print('spam')**"
   ]
  },
  {
   "cell_type": "code",
   "execution_count": 7,
   "id": "9a3520a6",
   "metadata": {},
   "outputs": [
    {
     "ename": "IndentationError",
     "evalue": "expected an indented block after 'if' statement on line 2 (2373325787.py, line 3)",
     "output_type": "error",
     "traceback": [
      "\u001b[1;36m  Cell \u001b[1;32mIn[7], line 3\u001b[1;36m\u001b[0m\n\u001b[1;33m    print('eggs')\u001b[0m\n\u001b[1;37m    ^\u001b[0m\n\u001b[1;31mIndentationError\u001b[0m\u001b[1;31m:\u001b[0m expected an indented block after 'if' statement on line 2\n"
     ]
    }
   ],
   "source": [
    "spam = 0\n",
    "if spam == 10:\n",
    "print('eggs')\n",
    "if spam > 5:\n",
    "print('bacon')\n",
    "else:\n",
    "print('ham')\n",
    "print('spam')\n",
    "print('spam')"
   ]
  },
  {
   "cell_type": "code",
   "execution_count": 8,
   "id": "82c18fb0",
   "metadata": {},
   "outputs": [
    {
     "name": "stdout",
     "output_type": "stream",
     "text": [
      "ham\n",
      "spam\n",
      "spam\n"
     ]
    }
   ],
   "source": [
    "spam = 0\n",
    "if spam == 10:\n",
    "    print('eggs')\n",
    "if spam > 5:\n",
    "    print('bacon')\n",
    "else:\n",
    "    print('ham')\n",
    "    print('spam')\n",
    "    print('spam')"
   ]
  },
  {
   "cell_type": "markdown",
   "id": "8fb51c8e",
   "metadata": {},
   "source": [
    "**8.Write code that prints Hello if 1 is stored in spam, prints Howdy if 2 is stored in spam, and prints Greetings! if anything else is stored in spam.**"
   ]
  },
  {
   "cell_type": "code",
   "execution_count": 15,
   "id": "3106880d",
   "metadata": {},
   "outputs": [
    {
     "name": "stdout",
     "output_type": "stream",
     "text": [
      "entre the value:5\n",
      "Greetings\n"
     ]
    }
   ],
   "source": [
    "spam = int(input(\"entre the value:\"))\n",
    "\n",
    "if spam == 1:\n",
    "    print(\"HELLO\")\n",
    "elif spam == 2:\n",
    "    print(\"spam\")\n",
    "else:\n",
    "    print(\"Greetings\") "
   ]
  },
  {
   "cell_type": "markdown",
   "id": "087ebc83",
   "metadata": {},
   "source": [
    "**9.If your programme is stuck in an endless loop, what keys you’ll press?**"
   ]
  },
  {
   "cell_type": "markdown",
   "id": "f5ce1475",
   "metadata": {},
   "source": [
    "If your program is stuck in an endless loop and you want to stop its execution, you can use the following key combination to forcefully terminate the program:\n",
    "\n",
    "On Windows/Linux: Press Ctrl + C\n",
    "\n",
    "On Mac: Press Command + C\n",
    "\n",
    "This is often referred to as a \"keyboard interrupt\" or \"Ctrl-C interrupt.\""
   ]
  },
  {
   "cell_type": "markdown",
   "id": "94bc7abb",
   "metadata": {},
   "source": [
    "**10.How can you tell the difference between break and continue?**"
   ]
  },
  {
   "cell_type": "markdown",
   "id": "b7d8fed6",
   "metadata": {},
   "source": [
    "'break' terminates the loop entirely and continues with the next statement after the loop.\n",
    "\n",
    "'continue' skips the rest of the current iteration and jumps to the next iteration of the loop."
   ]
  },
  {
   "cell_type": "code",
   "execution_count": 18,
   "id": "ed00db60",
   "metadata": {},
   "outputs": [
    {
     "name": "stdout",
     "output_type": "stream",
     "text": [
      "1\n",
      "2\n",
      "3\n",
      "4\n"
     ]
    }
   ],
   "source": [
    "for i in range(1,10):\n",
    "    if i == 5:\n",
    "        break\n",
    "    print(i)        "
   ]
  },
  {
   "cell_type": "code",
   "execution_count": 20,
   "id": "2f35b8ae",
   "metadata": {},
   "outputs": [
    {
     "name": "stdout",
     "output_type": "stream",
     "text": [
      "1\n",
      "2\n",
      "3\n",
      "4\n",
      "6\n",
      "7\n",
      "8\n",
      "9\n"
     ]
    }
   ],
   "source": [
    "for i in range (1 , 10):\n",
    "    if i==5:\n",
    "        continue\n",
    "    print(i)    "
   ]
  },
  {
   "cell_type": "markdown",
   "id": "99447b03",
   "metadata": {},
   "source": [
    "**11.In a for loop, what is the difference between range(10), range(0, 10), and range(0, 10, 1)?**"
   ]
  },
  {
   "cell_type": "code",
   "execution_count": 21,
   "id": "3b047e24",
   "metadata": {},
   "outputs": [
    {
     "name": "stdout",
     "output_type": "stream",
     "text": [
      "0\n",
      "1\n",
      "2\n",
      "3\n",
      "4\n",
      "5\n",
      "6\n",
      "7\n",
      "8\n",
      "9\n"
     ]
    }
   ],
   "source": [
    "for i in range(10):\n",
    "    print(i)"
   ]
  },
  {
   "cell_type": "markdown",
   "id": "22e8650f",
   "metadata": {},
   "source": [
    "In the above statement, the for loop prints number from 0 to (n-1) since the start is not mentioned under the range function, it will start from 0 and will print results until (n-1)"
   ]
  },
  {
   "cell_type": "code",
   "execution_count": 23,
   "id": "70d87ee3",
   "metadata": {},
   "outputs": [
    {
     "name": "stdout",
     "output_type": "stream",
     "text": [
      "0\n",
      "1\n",
      "2\n",
      "3\n",
      "4\n",
      "5\n",
      "6\n",
      "7\n",
      "8\n",
      "9\n"
     ]
    }
   ],
   "source": [
    "for i in range(0,10):\n",
    "    print(i)"
   ]
  },
  {
   "cell_type": "markdown",
   "id": "105c8434",
   "metadata": {},
   "source": [
    "the above condition & this condition are same the difference is only that this the the start value\"0\"is mentioned ."
   ]
  },
  {
   "cell_type": "code",
   "execution_count": 25,
   "id": "cf9e6705",
   "metadata": {},
   "outputs": [
    {
     "name": "stdout",
     "output_type": "stream",
     "text": [
      "0\n",
      "1\n",
      "2\n",
      "3\n",
      "4\n",
      "5\n",
      "6\n",
      "7\n",
      "8\n",
      "9\n"
     ]
    }
   ],
   "source": [
    "for i in range(0,10,1):\n",
    "    print(i)"
   ]
  },
  {
   "cell_type": "markdown",
   "id": "09f91293",
   "metadata": {},
   "source": [
    "in the above for loop , range(start,stop,set) is the given format , so the set format basically skips or jumps the value by assign value to set , here it is assigned as \"1\" so bydefault it shows the output"
   ]
  },
  {
   "cell_type": "markdown",
   "id": "96364854",
   "metadata": {},
   "source": [
    "**12.Write a short program that prints the numbers 1 to 10 using a for loop. Then write an equivalent program that prints the numbers 1 to 10 using a while loop.**"
   ]
  },
  {
   "cell_type": "code",
   "execution_count": 26,
   "id": "5c80a44e",
   "metadata": {},
   "outputs": [
    {
     "name": "stdout",
     "output_type": "stream",
     "text": [
      "1\n",
      "2\n",
      "3\n",
      "4\n",
      "5\n",
      "6\n",
      "7\n",
      "8\n",
      "9\n",
      "10\n"
     ]
    }
   ],
   "source": [
    "for i in range(1,11):\n",
    "    print(i)"
   ]
  },
  {
   "cell_type": "code",
   "execution_count": 1,
   "id": "57af89f3",
   "metadata": {},
   "outputs": [
    {
     "name": "stdout",
     "output_type": "stream",
     "text": [
      "1\n",
      "2\n",
      "3\n",
      "4\n",
      "5\n",
      "6\n",
      "7\n",
      "8\n",
      "9\n",
      "10\n"
     ]
    }
   ],
   "source": [
    "i = 1\n",
    "while i <= 10:\n",
    "    print(i)\n",
    "    i +=1\n",
    "\n"
   ]
  },
  {
   "cell_type": "markdown",
   "id": "69c65866",
   "metadata": {},
   "source": [
    "**13.If you had a function named bacon() inside a module named spam, how would you call it after importing spam?**"
   ]
  },
  {
   "cell_type": "code",
   "execution_count": null,
   "id": "949191ab",
   "metadata": {},
   "outputs": [],
   "source": [
    "import spam\n",
    "\n",
    "spam.bacon()\n",
    "\n",
    "\n",
    "# The spam module is imported using the import statement.\n",
    "# After importing, you can access the bacon() function using the dot notation spam.bacon(),\n",
    "# where spam is the module name and bacon is the function name."
   ]
  }
 ],
 "metadata": {
  "kernelspec": {
   "display_name": "Python 3 (ipykernel)",
   "language": "python",
   "name": "python3"
  },
  "language_info": {
   "codemirror_mode": {
    "name": "ipython",
    "version": 3
   },
   "file_extension": ".py",
   "mimetype": "text/x-python",
   "name": "python",
   "nbconvert_exporter": "python",
   "pygments_lexer": "ipython3",
   "version": "3.11.3"
  }
 },
 "nbformat": 4,
 "nbformat_minor": 5
}
